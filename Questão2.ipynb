{
  "nbformat": 4,
  "nbformat_minor": 0,
  "metadata": {
    "colab": {
      "provenance": [],
      "authorship_tag": "ABX9TyNuO/PXEgLwouGk+nvj4NiW",
      "include_colab_link": true
    },
    "kernelspec": {
      "name": "python3",
      "display_name": "Python 3"
    },
    "language_info": {
      "name": "python"
    }
  },
  "cells": [
    {
      "cell_type": "markdown",
      "metadata": {
        "id": "view-in-github",
        "colab_type": "text"
      },
      "source": [
        "<a href=\"https://colab.research.google.com/github/Joana-Pacheco/Joana-Pacheco/blob/main/Quest%C3%A3o2.ipynb\" target=\"_parent\"><img src=\"https://colab.research.google.com/assets/colab-badge.svg\" alt=\"Open In Colab\"/></a>"
      ]
    },
    {
      "cell_type": "code",
      "execution_count": 56,
      "metadata": {
        "colab": {
          "base_uri": "https://localhost:8080/"
        },
        "id": "0R01SrF_pxGp",
        "outputId": "3322f9cb-85e8-4ba5-98df-5df360024045"
      },
      "outputs": [
        {
          "output_type": "stream",
          "name": "stdout",
          "text": [
            "Bem-vinda à Loja de Delícias do Norte de Joana Pacheco :)\n",
            "Qual sabor você deseja? (Cupuaçu ou Açaí): açaí\n",
            "Qual tamanho você deseja? (P/M/G): gg\n",
            "Tamanho inválido. Tente novamente.\n",
            "Qual sabor você deseja? (Cupuaçu ou Açaí): açaí\n",
            "Qual tamanho você deseja? (P/M/G): g\n",
            "Você escolheu Açaí tamanho Grande.\n",
            "Valor deste item: R$ 20.00\n",
            "Deseja pedir mais alguma coisa? (S/N): s\n",
            "Qual sabor você deseja? (Cupuaçu ou Açaí): cupuaçu\n",
            "Qual tamanho você deseja? (P/M/G): p\n",
            "Você escolheu Cupuaçu tamanho Pequeno.\n",
            "Valor deste item: R$ 9.00\n",
            "Deseja pedir mais alguma coisa? (S/N): n\n",
            "\n",
            "Valor total a pagar: R$ 29.00\n",
            "Obrigado por comprar na Loja de Delícias do Norte! Volte sempre :)\n"
          ]
        }
      ],
      "source": [
        "# [EXIGÊNCIA DE CÓDIGO 1 de 8]\n",
        "# Mensagem de boas-vindas com nome e sobrenome\n",
        "print(\"Bem-vinda à Loja de Delícias do Norte de Joana Pacheco :)\")\n",
        "\n",
        "# [EXIGÊNCIA DE CÓDIGO 5 de 8]\n",
        "# Acumulador do valor total\n",
        "total = 0\n",
        "\n",
        "while True:\n",
        "    # [EXIGÊNCIA DE CÓDIGO 2 de 8]\n",
        "    # Entrada do sabor\n",
        "    sabor = input(\"Qual sabor você deseja? (Cupuaçu ou Açaí): \").upper()\n",
        "\n",
        "    if sabor == \"CUPUAÇU\":\n",
        "        codigo_sabor = \"CP\"\n",
        "    elif sabor == \"AÇAÍ\" or sabor == \"ACAI\":\n",
        "        codigo_sabor = \"AC\"\n",
        "    else:\n",
        "        print(\"Sabor inválido. Tente novamente.\")\n",
        "        continue\n",
        "\n",
        "    # [EXIGÊNCIA DE CÓDIGO 3 de 8]\n",
        "    # Entrada do tamanho\n",
        "    tamanho = input(\"Qual tamanho você deseja? (P/M/G): \").upper()\n",
        "\n",
        "    if tamanho == \"P\":\n",
        "        tamanho_nome = \"Pequeno\"\n",
        "    elif tamanho == \"M\":\n",
        "        tamanho_nome = \"Médio\"\n",
        "    elif tamanho == \"G\":\n",
        "        tamanho_nome = \"Grande\"\n",
        "    else:\n",
        "        print(\"Tamanho inválido. Tente novamente.\")\n",
        "        continue\n",
        "\n",
        "    # [EXIGÊNCIA DE CÓDIGO 4 de 8]\n",
        "    # Modelo aninhado com sabor + tamanho → define o preço\n",
        "    preco = 0\n",
        "\n",
        "    if sabor == \"CUPUAÇU\":\n",
        "        if tamanho == \"P\":\n",
        "            preco = 9\n",
        "        elif tamanho == \"M\":\n",
        "            preco = 14\n",
        "        elif tamanho == \"G\":\n",
        "            preco = 18\n",
        "    elif sabor == \"AÇAÍ\" or sabor == \"ACAI\":\n",
        "        if tamanho == \"P\":\n",
        "            preco = 11\n",
        "        elif tamanho == \"M\":\n",
        "            preco = 16\n",
        "        elif tamanho == \"G\":\n",
        "            preco = 20\n",
        "\n",
        "    # Mostrar resumo do pedido\n",
        "    print(f\"Você escolheu {sabor.capitalize()} tamanho {tamanho_nome}.\")\n",
        "    print(f\"Valor deste item: R$ {preco:.2f}\")\n",
        "\n",
        "    # [EXIGÊNCIA DE CÓDIGO 5 de 8]\n",
        "    total += preco\n",
        "\n",
        "    # [EXIGÊNCIA DE CÓDIGO 6 de 8]\n",
        "    continuar = input(\"Deseja pedir mais alguma coisa? (S/N): \").upper()\n",
        "    if continuar == \"N\":\n",
        "        break\n",
        "    elif continuar != \"S\":\n",
        "        print(\"Resposta inválida. Encerrando o pedido.\")\n",
        "        break\n",
        "\n",
        "# [EXIGÊNCIA DE CÓDIGO 7 de 8]]\n",
        "# Mostrar valor total ao final\n",
        "print(f\"\\nValor total a pagar: R$ {total:.2f}\")\n",
        "\n",
        "# [EXIGÊNCIA DE CÓDIGO 8 de 8]\n",
        "# Mensagem de agradecimento\n",
        "print(\"Obrigado por comprar na Loja de Delícias do Norte! Volte sempre :)\")"
      ]
    }
  ]
}