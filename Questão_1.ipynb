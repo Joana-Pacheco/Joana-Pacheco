{
  "nbformat": 4,
  "nbformat_minor": 0,
  "metadata": {
    "colab": {
      "provenance": [],
      "authorship_tag": "ABX9TyOJF4SlsXlBH1IPwIFklEBI",
      "include_colab_link": true
    },
    "kernelspec": {
      "name": "python3",
      "display_name": "Python 3"
    },
    "language_info": {
      "name": "python"
    }
  },
  "cells": [
    {
      "cell_type": "markdown",
      "metadata": {
        "id": "view-in-github",
        "colab_type": "text"
      },
      "source": [
        "<a href=\"https://colab.research.google.com/github/Joana-Pacheco/Joana-Pacheco/blob/main/Quest%C3%A3o_1.ipynb\" target=\"_parent\"><img src=\"https://colab.research.google.com/assets/colab-badge.svg\" alt=\"Open In Colab\"/></a>"
      ]
    },
    {
      "cell_type": "code",
      "execution_count": 6,
      "metadata": {
        "colab": {
          "base_uri": "https://localhost:8080/"
        },
        "id": "utt61Nazbg5t",
        "outputId": "6688c6f5-4b37-4b07-d844-354d8893b6f5"
      },
      "outputs": [
        {
          "output_type": "stream",
          "name": "stdout",
          "text": [
            "Bem-vinda à Loja da Joana Pacheco :)\n",
            "Digite o valor unitário do produto: R$ 200\n",
            "Digite a quantidade desejada: 13\n",
            "Desconto de 4% aplicado.\n",
            "\n",
            "--- RESUMO DO PEDIDO ---\n",
            "Atendimento realizado por: Joana Pacheco da Silva Sauro\n",
            "Valor total SEM desconto: R$ 2600.00\n",
            "Valor total COM desconto: R$ 2496.00\n"
          ]
        }
      ],
      "source": [
        "# [EXIGÊNCIA DE CÓDIGO 1 de 6]\n",
        "# Mensagem de boas-vindas com meu nome e sobrenome\n",
        "print(\"Bem-vinda à Loja da Joana Pacheco :)\")\n",
        "\n",
        "# [EXIGÊNCIA DE CÓDIGO 2 de 6]\n",
        "# Valor unitário e quantidade do produto\n",
        "valor_unitario = float(input(\"Digite o valor unitário do produto: R$ \"))\n",
        "quantidade = int(input(\"Digite a quantidade desejada: \"))\n",
        "\n",
        "# [EXIGÊNCIA DE CÓDIGO 3 de 6]\n",
        "# Cálculo do desconto de acordo com o valor total\n",
        "\n",
        "# [EXIGÊNCIA DE CÓDIGO 4 de 6]\n",
        "# Cálculo do valor total SEM o desconto\n",
        "valor_total_sem_desconto = valor_unitario * quantidade\n",
        "\n",
        "# [EXIGÊNCIA DE CÓDIGO 5 de 6] (usar o if, elif e else com identação)\n",
        "if valor_total_sem_desconto < 2500:\n",
        "    desconto_percentual = 0\n",
        "    print(\"Sem desconto aplicado.\")\n",
        "elif valor_total_sem_desconto >= 2500 and valor_total_sem_desconto < 6000:\n",
        "    desconto_percentual = 0.04\n",
        "    print(\"Desconto de 4% aplicado.\")\n",
        "elif valor_total_sem_desconto >= 6000 and valor_total_sem_desconto < 10000:\n",
        "    desconto_percentual = 0.07\n",
        "    print(\"Desconto de 7% aplicado.\")\n",
        "else:\n",
        "    desconto_percentual = 0.11\n",
        "    print(\"Desconto de 11% aplicado.\")\n",
        "\n",
        "# Cálculo do valor total COM desconto\n",
        "valor_total_com_desconto = valor_total_sem_desconto * (1 - desconto_percentual)\n",
        "\n",
        "# [EXIGÊNCIA DE SAÍDA DE CONSOLE 1 de 2]\n",
        "print(\"\\n--- RESUMO DO PEDIDO ---\")\n",
        "print(\"Atendimento realizado por: Joana Pacheco da Silva Sauro\")\n",
        "\n",
        "# [EXIGÊNCIA DE SAÍDA DE CONSOLE 2 de 2]\n",
        "print(f\"Valor total SEM desconto: R$ {valor_total_sem_desconto:.2f}\")\n",
        "print(f\"Valor total COM desconto: R$ {valor_total_com_desconto:.2f}\")\n"
      ]
    }
  ]
}